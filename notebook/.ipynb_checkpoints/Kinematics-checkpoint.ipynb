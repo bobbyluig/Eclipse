{
 "cells": [
  {
   "cell_type": "markdown",
   "metadata": {},
   "source": [
    "# Kinematics"
   ]
  },
  {
   "cell_type": "code",
   "execution_count": 24,
   "metadata": {
    "collapsed": true
   },
   "outputs": [],
   "source": [
    "import sympy\n",
    "from sympy import *\n",
    "sympy.init_printing()"
   ]
  },
  {
   "cell_type": "code",
   "execution_count": 25,
   "metadata": {
    "collapsed": true
   },
   "outputs": [],
   "source": [
    "def Rx(t):\n",
    "    return Matrix([ [1, 0, 0],\n",
    "                    [0, cos(t), -sin(t)],\n",
    "                    [0, sin(t), cos(t)]])\n",
    "                    \n",
    "def Ry(t):\n",
    "    return Matrix([ [cos(t), 0, sin(t)],\n",
    "                    [0, 1, 0],\n",
    "                    [-sin(t), 0, cos(t)]])\n",
    "                    \n",
    "def Rz(t):\n",
    "    return Matrix([ [cos(t), -sin(t), 0],\n",
    "                    [sin(t), cos(t), 0],\n",
    "                    [0, 0, 1]])"
   ]
  },
  {
   "cell_type": "code",
   "execution_count": 26,
   "metadata": {
    "collapsed": false
   },
   "outputs": [],
   "source": [
    "theta1 = Symbol('theta1')\n",
    "theta2 = Symbol('theta2')\n",
    "theta3 = Symbol('theta3')"
   ]
  },
  {
   "cell_type": "code",
   "execution_count": 27,
   "metadata": {
    "collapsed": true
   },
   "outputs": [],
   "source": [
    "x1, y1, z1 = symbols('x1 y1 z1')\n",
    "x2, y2, z2 = symbols('x2 y2 z2')\n",
    "x3, y3, z3 = symbols('x3 y3 z3')"
   ]
  },
  {
   "cell_type": "code",
   "execution_count": 28,
   "metadata": {
    "collapsed": true
   },
   "outputs": [],
   "source": [
    "l1, l2 = symbols('l1 l2')"
   ]
  },
  {
   "cell_type": "code",
   "execution_count": 29,
   "metadata": {
    "collapsed": false
   },
   "outputs": [
    {
     "data": {
      "image/png": "[encoded data removed]",
      "text/latex": [
       "$$\\left [ 0, \\quad l_{1} \\sin{\\left (\\theta_{2} \\right )}, \\quad - l_{1} \\cos{\\left (\\theta_{2} \\right )}\\right ]$$"
      ],
      "text/plain": [
       "[0, l₁⋅sin(θ₂), -l₁⋅cos(θ₂)]"
      ]
     },
     "execution_count": 29,
     "metadata": {},
     "output_type": "execute_result"
    }
   ],
   "source": [
    "Rx(theta2).dot(Matrix([[0], [0], [-l1]]))"
   ]
  },
  {
   "cell_type": "code",
   "execution_count": 30,
   "metadata": {
    "collapsed": false
   },
   "outputs": [
    {
     "data": {
      "image/png": "[encoded data removed]",
      "text/latex": [
       "$$\\left [ - l_{1} \\sin{\\left (\\theta_{1} \\right )} \\cos{\\left (\\theta_{2} \\right )}, \\quad l_{1} \\sin{\\left (\\theta_{2} \\right )}, \\quad - l_{1} \\cos{\\left (\\theta_{1} \\right )} \\cos{\\left (\\theta_{2} \\right )}\\right ]$$"
      ],
      "text/plain": [
       "[-l₁⋅sin(θ₁)⋅cos(θ₂), l₁⋅sin(θ₂), -l₁⋅cos(θ₁)⋅cos(θ₂)]"
      ]
     },
     "execution_count": 30,
     "metadata": {},
     "output_type": "execute_result"
    }
   ],
   "source": [
    "temp = Rx(theta2).dot(Matrix([[0], [0], [-l1]]))\n",
    "Ry(theta1).dot(temp)"
   ]
  },
  {
   "cell_type": "code",
   "execution_count": 31,
   "metadata": {
    "collapsed": false
   },
   "outputs": [
    {
     "data": {
      "image/png": "[encoded data removed]",
      "text/latex": [
       "$$\\left [ \\cos{\\left (\\theta_{1} \\right )}, \\quad 0, \\quad - \\sin{\\left (\\theta_{1} \\right )}, \\quad \\sin{\\left (\\theta_{1} \\right )} \\sin{\\left (\\theta_{2} \\right )}, \\quad \\cos{\\left (\\theta_{2} \\right )}, \\quad \\sin{\\left (\\theta_{2} \\right )} \\cos{\\left (\\theta_{1} \\right )}, \\quad \\sin{\\left (\\theta_{1} \\right )} \\cos{\\left (\\theta_{2} \\right )}, \\quad - \\sin{\\left (\\theta_{2} \\right )}, \\quad \\cos{\\left (\\theta_{1} \\right )} \\cos{\\left (\\theta_{2} \\right )}\\right ]$$"
      ],
      "text/plain": [
       "[cos(θ₁), 0, -sin(θ₁), sin(θ₁)⋅sin(θ₂), cos(θ₂), sin(θ₂)⋅cos(θ₁), sin(θ₁)⋅cos(\n",
       "θ₂), -sin(θ₂), cos(θ₁)⋅cos(θ₂)]"
      ]
     },
     "execution_count": 31,
     "metadata": {},
     "output_type": "execute_result"
    }
   ],
   "source": [
    "Rx(theta2).dot(Ry(theta1))"
   ]
  },
  {
   "cell_type": "code",
   "execution_count": 32,
   "metadata": {
    "collapsed": true
   },
   "outputs": [],
   "source": [
    "p3 = Matrix([[-l2 * sin(theta3)], [0], [-l1 -l2 * cos(theta3)]])\n"
   ]
  },
  {
   "cell_type": "code",
   "execution_count": 33,
   "metadata": {
    "collapsed": false
   },
   "outputs": [
    {
     "ename": "AttributeError",
     "evalue": "'list' object has no attribute 'dot'",
     "output_type": "error",
     "traceback": [
      "\u001b[1;31m---------------------------------------------------------------------------\u001b[0m",
      "\u001b[1;31mAttributeError\u001b[0m                            Traceback (most recent call last)",
      "\u001b[1;32m<ipython-input-33-2d672be4b4cf>\u001b[0m in \u001b[0;36m<module>\u001b[1;34m()\u001b[0m\n\u001b[1;32m----> 1\u001b[1;33m \u001b[0mRx\u001b[0m\u001b[1;33m(\u001b[0m\u001b[0mtheta2\u001b[0m\u001b[1;33m)\u001b[0m\u001b[1;33m.\u001b[0m\u001b[0mdot\u001b[0m\u001b[1;33m(\u001b[0m\u001b[0mRy\u001b[0m\u001b[1;33m(\u001b[0m\u001b[0mtheta1\u001b[0m\u001b[1;33m)\u001b[0m\u001b[1;33m)\u001b[0m\u001b[1;33m.\u001b[0m\u001b[0mdot\u001b[0m\u001b[1;33m(\u001b[0m\u001b[0mp3\u001b[0m\u001b[1;33m)\u001b[0m\u001b[1;33m\u001b[0m\u001b[0m\n\u001b[0m",
      "\u001b[1;31mAttributeError\u001b[0m: 'list' object has no attribute 'dot'"
     ]
    }
   ],
   "source": [
    "Rx(theta2).dot(Ry(theta1)).dot(p3)"
   ]
  },
  {
   "cell_type": "code",
   "execution_count": 63,
   "metadata": {
    "collapsed": false
   },
   "outputs": [
    {
     "data": {
      "text/latex": [
       "$$\\left[\\begin{matrix}- l_{2} \\sin{\\left (\\theta_{3} \\right )} \\cos{\\left (\\theta_{1} \\right )} - \\left(- l_{1} - l_{2} \\cos{\\left (\\theta_{3} \\right )}\\right) \\sin{\\left (\\theta_{1} \\right )} \\cos{\\left (\\theta_{2} \\right )}\\\\\\left(- l_{1} - l_{2} \\cos{\\left (\\theta_{3} \\right )}\\right) \\sin{\\left (\\theta_{2} \\right )}\\\\- l_{2} \\sin{\\left (\\theta_{1} \\right )} \\sin{\\left (\\theta_{3} \\right )} + \\left(- l_{1} - l_{2} \\cos{\\left (\\theta_{3} \\right )}\\right) \\cos{\\left (\\theta_{1} \\right )} \\cos{\\left (\\theta_{2} \\right )}\\end{matrix}\\right]$$"
      ],
      "text/plain": [
       "⎡-l₂⋅sin(θ₃)⋅cos(θ₁) - (-l₁ - l₂⋅cos(θ₃))⋅sin(θ₁)⋅cos(θ₂)⎤\n",
       "⎢                                                        ⎥\n",
       "⎢               (-l₁ - l₂⋅cos(θ₃))⋅sin(θ₂)               ⎥\n",
       "⎢                                                        ⎥\n",
       "⎣-l₂⋅sin(θ₁)⋅sin(θ₃) + (-l₁ - l₂⋅cos(θ₃))⋅cos(θ₁)⋅cos(θ₂)⎦"
      ]
     },
     "execution_count": 63,
     "metadata": {},
     "output_type": "execute_result"
    }
   ],
   "source": [
    "\n",
    "a = Ry(theta1).dot(Rx(theta2))\n",
    "a = Matrix(a)\n",
    "a.rows = 3 \n",
    "a.cols = 3\n",
    "Matrix(a.dot(p3))"
   ]
  },
  {
   "cell_type": "code",
   "execution_count": 35,
   "metadata": {
    "collapsed": false
   },
   "outputs": [
    {
     "data": {
      "image/png": "[encoded data removed]",
      "text/latex": [
       "$$\\left [ - l_{2} \\sin{\\left (\\theta_{3} \\right )}, \\quad - \\left(- l_{1} - l_{2} \\cos{\\left (\\theta_{3} \\right )}\\right) \\sin{\\left (\\theta_{2} \\right )}, \\quad \\left(- l_{1} - l_{2} \\cos{\\left (\\theta_{3} \\right )}\\right) \\cos{\\left (\\theta_{2} \\right )}\\right ]$$"
      ],
      "text/plain": [
       "[-l₂⋅sin(θ₃), -(-l₁ - l₂⋅cos(θ₃))⋅sin(θ₂), (-l₁ - l₂⋅cos(θ₃))⋅cos(θ₂)]"
      ]
     },
     "execution_count": 35,
     "metadata": {},
     "output_type": "execute_result"
    }
   ],
   "source": [
    "Rx(theta2).dot(p3)"
   ]
  },
  {
   "cell_type": "code",
   "execution_count": 36,
   "metadata": {
    "collapsed": false
   },
   "outputs": [
    {
     "data": {
      "image/png": "[encoded data removed]",
      "text/latex": [
       "$$\\left [ - l_{2} \\sin{\\left (\\theta_{3} \\right )}, \\quad - \\left(- l_{1} - l_{2} \\cos{\\left (\\theta_{3} \\right )}\\right) \\sin{\\left (\\theta_{2} \\right )}, \\quad \\left(- l_{1} - l_{2} \\cos{\\left (\\theta_{3} \\right )}\\right) \\cos{\\left (\\theta_{2} \\right )}\\right ]$$"
      ],
      "text/plain": [
       "[-l₂⋅sin(θ₃), -(-l₁ - l₂⋅cos(θ₃))⋅sin(θ₂), (-l₁ - l₂⋅cos(θ₃))⋅cos(θ₂)]"
      ]
     },
     "execution_count": 36,
     "metadata": {},
     "output_type": "execute_result"
    }
   ],
   "source": [
    "Rx(theta2).dot(p3)"
   ]
  },
  {
   "cell_type": "code",
   "execution_count": 37,
   "metadata": {
    "collapsed": true
   },
   "outputs": [],
   "source": [
    "x1, y1, z1 = Rx(theta2).dot(p3)\n"
   ]
  },
  {
   "cell_type": "code",
   "execution_count": 38,
   "metadata": {
    "collapsed": false
   },
   "outputs": [
    {
     "data": {
      "image/png": "[encoded data removed]",
      "text/latex": [
       "$$- l_{2} \\sin{\\left (\\theta_{3} \\right )}$$"
      ],
      "text/plain": [
       "-l₂⋅sin(θ₃)"
      ]
     },
     "execution_count": 38,
     "metadata": {},
     "output_type": "execute_result"
    }
   ],
   "source": [
    "x1"
   ]
  },
  {
   "cell_type": "code",
   "execution_count": 39,
   "metadata": {
    "collapsed": false
   },
   "outputs": [
    {
     "data": {
      "image/png": "[encoded data removed]",
      "text/latex": [
       "$$- \\left(- l_{1} - l_{2} \\cos{\\left (\\theta_{3} \\right )}\\right) \\sin{\\left (\\theta_{2} \\right )}$$"
      ],
      "text/plain": [
       "-(-l₁ - l₂⋅cos(θ₃))⋅sin(θ₂)"
      ]
     },
     "execution_count": 39,
     "metadata": {},
     "output_type": "execute_result"
    }
   ],
   "source": [
    "y1"
   ]
  },
  {
   "cell_type": "code",
   "execution_count": 40,
   "metadata": {
    "collapsed": false
   },
   "outputs": [
    {
     "data": {
      "image/png": "[encoded data removed]",
      "text/latex": [
       "$$\\left(- l_{1} - l_{2} \\cos{\\left (\\theta_{3} \\right )}\\right) \\cos{\\left (\\theta_{2} \\right )}$$"
      ],
      "text/plain": [
       "(-l₁ - l₂⋅cos(θ₃))⋅cos(θ₂)"
      ]
     },
     "execution_count": 40,
     "metadata": {},
     "output_type": "execute_result"
    }
   ],
   "source": [
    "z1"
   ]
  },
  {
   "cell_type": "markdown",
   "metadata": {},
   "source": [
    "### I'm going to try to fix other people's problems."
   ]
  },
  {
   "cell_type": "code",
   "execution_count": 41,
   "metadata": {
    "collapsed": true
   },
   "outputs": [],
   "source": [
    "l1, l2, l3 = symbols('l1 l2 l3')"
   ]
  },
  {
   "cell_type": "code",
   "execution_count": 42,
   "metadata": {
    "collapsed": true
   },
   "outputs": [],
   "source": [
    "x1 = l1 * cos(theta1)"
   ]
  },
  {
   "cell_type": "code",
   "execution_count": 43,
   "metadata": {
    "collapsed": true
   },
   "outputs": [],
   "source": [
    "z1 = -l1 * sin(theta1)"
   ]
  },
  {
   "cell_type": "code",
   "execution_count": 44,
   "metadata": {
    "collapsed": true
   },
   "outputs": [],
   "source": [
    "y1 = 0"
   ]
  },
  {
   "cell_type": "code",
   "execution_count": 45,
   "metadata": {
    "collapsed": false
   },
   "outputs": [
    {
     "data": {
      "image/png": "[encoded data removed]",
      "text/latex": [
       "$$\\left [ - l_{2} \\sin{\\left (\\theta_{3} \\right )} \\cos{\\left (\\theta_{1} \\right )} \\cos{\\left (\\theta_{2} \\right )} + \\left(- l_{1} - l_{2} \\cos{\\left (\\theta_{3} \\right )}\\right) \\sin{\\left (\\theta_{1} \\right )}, \\quad - l_{2} \\sin{\\left (\\theta_{2} \\right )} \\sin{\\left (\\theta_{3} \\right )}, \\quad l_{2} \\sin{\\left (\\theta_{1} \\right )} \\sin{\\left (\\theta_{3} \\right )} \\cos{\\left (\\theta_{2} \\right )} + \\left(- l_{1} - l_{2} \\cos{\\left (\\theta_{3} \\right )}\\right) \\cos{\\left (\\theta_{1} \\right )}\\right ]$$"
      ],
      "text/plain": [
       "[-l₂⋅sin(θ₃)⋅cos(θ₁)⋅cos(θ₂) + (-l₁ - l₂⋅cos(θ₃))⋅sin(θ₁), -l₂⋅sin(θ₂)⋅sin(θ₃)\n",
       ", l₂⋅sin(θ₁)⋅sin(θ₃)⋅cos(θ₂) + (-l₁ - l₂⋅cos(θ₃))⋅cos(θ₁)]"
      ]
     },
     "execution_count": 45,
     "metadata": {},
     "output_type": "execute_result"
    }
   ],
   "source": [
    "a = Rz(theta2).dot(p3)\n",
    "b = Ry(theta1).dot(a)\n",
    "b"
   ]
  },
  {
   "cell_type": "code",
   "execution_count": 46,
   "metadata": {
    "collapsed": false,
    "scrolled": true
   },
   "outputs": [
    {
     "data": {
      "text/latex": [
       "$$\\left[\\begin{matrix}- l_{2} \\sin{\\left (\\theta_{3} \\right )} \\cos{\\left (\\theta_{1} \\right )} \\cos{\\left (\\theta_{2} \\right )} - \\left(- l_{1} - l_{2} \\cos{\\left (\\theta_{3} \\right )}\\right) \\sin{\\left (\\theta_{1} \\right )} \\cos{\\left (\\theta_{2} \\right )}\\\\l_{2} \\sin{\\left (\\theta_{2} \\right )} \\sin{\\left (\\theta_{3} \\right )} \\cos{\\left (\\theta_{1} \\right )} + \\left(- l_{1} - l_{2} \\cos{\\left (\\theta_{3} \\right )}\\right) \\sin{\\left (\\theta_{1} \\right )} \\sin{\\left (\\theta_{2} \\right )}\\\\- l_{2} \\sin{\\left (\\theta_{1} \\right )} \\sin{\\left (\\theta_{3} \\right )} + \\left(- l_{1} - l_{2} \\cos{\\left (\\theta_{3} \\right )}\\right) \\cos{\\left (\\theta_{1} \\right )}\\end{matrix}\\right]$$"
      ],
      "text/plain": [
       "⎡-l₂⋅sin(θ₃)⋅cos(θ₁)⋅cos(θ₂) - (-l₁ - l₂⋅cos(θ₃))⋅sin(θ₁)⋅cos(θ₂)⎤\n",
       "⎢                                                                ⎥\n",
       "⎢l₂⋅sin(θ₂)⋅sin(θ₃)⋅cos(θ₁) + (-l₁ - l₂⋅cos(θ₃))⋅sin(θ₁)⋅sin(θ₂) ⎥\n",
       "⎢                                                                ⎥\n",
       "⎣        -l₂⋅sin(θ₁)⋅sin(θ₃) + (-l₁ - l₂⋅cos(θ₃))⋅cos(θ₁)        ⎦"
      ]
     },
     "execution_count": 46,
     "metadata": {},
     "output_type": "execute_result"
    }
   ],
   "source": [
    "a = Rz(theta2).dot(Ry(theta1))\n",
    "a = Matrix(a)\n",
    "a.rows = 3\n",
    "a.cols = 3\n",
    "b = a.dot(p3)\n",
    "b = Matrix(b)\n",
    "b"
   ]
  },
  {
   "cell_type": "code",
   "execution_count": 49,
   "metadata": {
    "collapsed": true
   },
   "outputs": [],
   "source": [
    "p1 = Matrix([[0], [0], [-l1]])"
   ]
  },
  {
   "cell_type": "code",
   "execution_count": 50,
   "metadata": {
    "collapsed": false
   },
   "outputs": [
    {
     "data": {
      "text/latex": [
       "$$\\left[\\begin{matrix}l_{1} \\sin{\\left (\\theta_{1} \\right )} \\cos{\\left (\\theta_{2} \\right )}\\\\- l_{1} \\sin{\\left (\\theta_{1} \\right )} \\sin{\\left (\\theta_{2} \\right )}\\\\- l_{1} \\cos{\\left (\\theta_{1} \\right )}\\end{matrix}\\right]$$"
      ],
      "text/plain": [
       "⎡l₁⋅sin(θ₁)⋅cos(θ₂) ⎤\n",
       "⎢                   ⎥\n",
       "⎢-l₁⋅sin(θ₁)⋅sin(θ₂)⎥\n",
       "⎢                   ⎥\n",
       "⎣    -l₁⋅cos(θ₁)    ⎦"
      ]
     },
     "execution_count": 50,
     "metadata": {},
     "output_type": "execute_result"
    }
   ],
   "source": [
    "a = Rz(theta2).dot(Ry(theta1))\n",
    "a = Matrix(a)\n",
    "a.rows = 3\n",
    "a.cols = 3\n",
    "b = a.dot(p1)\n",
    "b = Matrix(b)\n",
    "b"
   ]
  },
  {
   "cell_type": "code",
   "execution_count": null,
   "metadata": {
    "collapsed": true
   },
   "outputs": [],
   "source": []
  }
 ],
 "metadata": {
  "kernelspec": {
   "display_name": "Python 3",
   "language": "python",
   "name": "python3"
  },
  "language_info": {
   "codemirror_mode": {
    "name": "ipython",
    "version": 3
   },
   "file_extension": ".py",
   "mimetype": "text/x-python",
   "name": "python",
   "nbconvert_exporter": "python",
   "pygments_lexer": "ipython3",
   "version": "3.5.0"
  }
 },
 "nbformat": 4,
 "nbformat_minor": 0
}
